{
 "cells": [
  {
   "cell_type": "markdown",
   "metadata": {},
   "source": [
    "once you are ready to install python, check out [pyzo](http://www.pyzo.org/downloads.html). As python is open-source language, there are many packages out there, so explore and find the one you like. A more advanced package is [anaconda](http://continuum.io/downloads) if you are adventurous"
   ]
  },
  {
   "cell_type": "code",
   "execution_count": null,
   "metadata": {
    "collapsed": true
   },
   "outputs": [],
   "source": [
    "%%bash\n",
    "wget http://bitbucket.org/pyzo/pyzo/downloads/pyzo_distro-2015a.linux64.tar.gz"
   ]
  },
  {
   "cell_type": "code",
   "execution_count": null,
   "metadata": {
    "collapsed": true
   },
   "outputs": [],
   "source": [
    "Once the the python installation is complete, you should be able to start a ipython notebook server from the command line\n",
    "by typing ```ipython notebook``"
   ]
  }
 ],
 "metadata": {
  "kernelspec": {
   "display_name": "Python 3",
   "language": "python",
   "name": "python3"
  },
  "language_info": {
   "codemirror_mode": {
    "name": "ipython",
    "version": 3
   },
   "file_extension": ".py",
   "mimetype": "text/x-python",
   "name": "python",
   "nbconvert_exporter": "python",
   "pygments_lexer": "ipython3",
   "version": "3.4.3"
  }
 },
 "nbformat": 4,
 "nbformat_minor": 0
}
