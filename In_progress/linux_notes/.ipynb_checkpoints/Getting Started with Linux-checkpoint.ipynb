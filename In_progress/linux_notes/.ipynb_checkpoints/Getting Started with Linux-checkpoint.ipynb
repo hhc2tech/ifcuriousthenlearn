{
 "cells": [
  {
   "cell_type": "markdown",
   "metadata": {},
   "source": [
    "I have always had a passion for technology, but didn't always have the help to even get started on the simpliest things. I have found that my skills for using technology have gotten drastically better since I started using Linux. I have been a windows user my whole life for the simple reason is that is what I have always used and that is what I knew. But, If you want to really understand how the world around you works, especially in out computer innudated world, I highly recommend learning some form of linux or open-source operating system. THEY ARE FREE!!!\n",
    "\n",
    "[Software Carpentry](https://software-carpentry.org/lessons.html) has some great tutorials on basic functionality of a linux system, like the command line and scripting languages such as python or [shell](http://bash.cyberciti.biz/guide/Main_Page)\n",
    "\n",
    "These are some notes on basic functionality of linux based on the [tutorialspoint website](http://www.tutorialspoint.com/unix/unix-getting-started.htm )\n",
    "\n",
    "I am using a Debian based Linux machine, called Mint, which is the [most popular linux distribution](http://distrowatch.com/table.php?distribution=mint), and has an excellent package managment system and a beautiful user interface. I am also using an ipython notebook to execute and save all the content of this page. \n",
    "\n",
    "If you have an extra computer laying around, I would recommend installing linux natively on that machine by download an iso disk image and putting the image on a usb drive with [pendrivelinux](http://www.pendrivelinux.com/) or [unebootin](http://unetbootin.sourceforge.net/)\n",
    "\n",
    "Another alternative is using a Virtual machine running on [VirtualBox](https://www.virtualbox.org/), which is what I am using now. It is simple and you can try many different distributions with no worries. \n",
    "\n",
    "I am using an ipython notebook to document this tutorial because it does a great job of keeping all the input and output in one place. I also like playing with notebooks because I think they are a great way to share information\n",
    "\n",
    "There are two ways to access the terminal commands from an ipython notebook. The first is using ```!```, which gives you access to the operating system terminal commands. The other is using the magic commands in ipython, like %%bash. When entering commands into the bash terminal, ignore the ! or %%bash commands\n",
    "- - - -"
   ]
  },
  {
   "cell_type": "markdown",
   "metadata": {},
   "source": [
    "First of all where are we? Lets print our current location or 'print working directory'"
   ]
  },
  {
   "cell_type": "code",
   "execution_count": 31,
   "metadata": {
    "collapsed": false
   },
   "outputs": [
    {
     "name": "stdout",
     "output_type": "stream",
     "text": [
      "/home/neal/nobletek/linux_notes\n"
     ]
    }
   ],
   "source": [
    "%%bash\n",
    "pwd"
   ]
  },
  {
   "cell_type": "markdown",
   "metadata": {},
   "source": [
    "Now we want to know what files are in here"
   ]
  },
  {
   "cell_type": "code",
   "execution_count": 32,
   "metadata": {
    "collapsed": false
   },
   "outputs": [
    {
     "name": "stdout",
     "output_type": "stream",
     "text": [
      "total 12K\r\n",
      "-rwxr-xr-x 1 neal root    0 Apr 14 14:28 file1.txt\r\n",
      "-rwxr-xr-x 1 neal root    0 Apr 14 14:28 file.txt\r\n",
      "-rwxr-xr-x 1 neal root 7.2K Apr 14 14:31 Getting Started with Linux.ipynb\r\n",
      "-rwxr-xr-x 1 neal root 2.0K Apr 14 14:25 Getting Started with Python.ipynb\r\n"
     ]
    }
   ],
   "source": [
    "!ls -lh"
   ]
  },
  {
   "cell_type": "code",
   "execution_count": 33,
   "metadata": {
    "collapsed": false
   },
   "outputs": [
    {
     "name": "stdout",
     "output_type": "stream",
     "text": [
      "total 12K\n",
      "-rwxr-xr-x 1 neal root    0 Apr 14 14:28 file1.txt\n",
      "-rwxr-xr-x 1 neal root    0 Apr 14 14:28 file.txt\n",
      "-rwxr-xr-x 1 neal root 7.2K Apr 14 14:31 Getting Started with Linux.ipynb\n",
      "-rwxr-xr-x 1 neal root 2.0K Apr 14 14:25 Getting Started with Python.ipynb\n"
     ]
    }
   ],
   "source": [
    "%%bash\n",
    "ls -lh"
   ]
  },
  {
   "cell_type": "code",
   "execution_count": null,
   "metadata": {
    "collapsed": false
   },
   "outputs": [],
   "source": []
  },
  {
   "cell_type": "code",
   "execution_count": null,
   "metadata": {
    "collapsed": false
   },
   "outputs": [],
   "source": []
  },
  {
   "cell_type": "code",
   "execution_count": 34,
   "metadata": {
    "collapsed": false
   },
   "outputs": [
    {
     "name": "stdout",
     "output_type": "stream",
     "text": [
      "     April 2015       \n",
      "Su Mo Tu We Th Fr Sa  \n",
      "          1  2  3  4  \n",
      " 5  6  7  8  9 10 11  \n",
      "12 13 _\b1_\b4 15 16 17 18  \n",
      "19 20 21 22 23 24 25  \n",
      "26 27 28 29 30        \n",
      "                      \n"
     ]
    }
   ],
   "source": [
    "%%bash\n",
    "cal"
   ]
  },
  {
   "cell_type": "code",
   "execution_count": 35,
   "metadata": {
    "collapsed": false
   },
   "outputs": [
    {
     "name": "stdout",
     "output_type": "stream",
     "text": [
      "neal\n",
      "---\n",
      "neal neal\n",
      "---\n",
      "neal     tty8         2015-04-14 13:42 (:0)\n",
      "neal     pts/0        2015-04-14 13:42 (:0)\n"
     ]
    }
   ],
   "source": [
    "%%bash\n",
    "whoami\n",
    "echo \"---\"\n",
    "\n",
    "users\n",
    "echo \"---\"\n",
    "\n",
    "who"
   ]
  },
  {
   "cell_type": "code",
   "execution_count": 36,
   "metadata": {
    "collapsed": false
   },
   "outputs": [],
   "source": [
    "%%bash\n",
    "touch file.txt\n",
    "# or \n",
    "cat > file1.txt"
   ]
  },
  {
   "cell_type": "code",
   "execution_count": 37,
   "metadata": {
    "collapsed": false
   },
   "outputs": [
    {
     "name": "stdout",
     "output_type": "stream",
     "text": [
      "\u001b[0m\u001b[01;32mfile1.txt\u001b[0m*  \u001b[01;32mGetting Started with Linux.ipynb\u001b[0m*\r\n",
      "\u001b[01;32mfile.txt\u001b[0m*   \u001b[01;32mGetting Started with Python.ipynb\u001b[0m*\r\n"
     ]
    }
   ],
   "source": [
    "ls"
   ]
  },
  {
   "cell_type": "code",
   "execution_count": 38,
   "metadata": {
    "collapsed": false
   },
   "outputs": [
    {
     "name": "stdout",
     "output_type": "stream",
     "text": [
      "0 0 0 file1.txt\n"
     ]
    }
   ],
   "source": [
    "%%bash\n",
    "wc file1.txt"
   ]
  },
  {
   "cell_type": "code",
   "execution_count": null,
   "metadata": {
    "collapsed": true
   },
   "outputs": [],
   "source": []
  },
  {
   "cell_type": "code",
   "execution_count": null,
   "metadata": {
    "collapsed": true
   },
   "outputs": [],
   "source": []
  }
 ],
 "metadata": {
  "kernelspec": {
   "display_name": "Python 3",
   "language": "python",
   "name": "python3"
  },
  "language_info": {
   "codemirror_mode": {
    "name": "ipython",
    "version": 3
   },
   "file_extension": ".py",
   "mimetype": "text/x-python",
   "name": "python",
   "nbconvert_exporter": "python",
   "pygments_lexer": "ipython3",
   "version": "3.4.3"
  }
 },
 "nbformat": 4,
 "nbformat_minor": 0
}
