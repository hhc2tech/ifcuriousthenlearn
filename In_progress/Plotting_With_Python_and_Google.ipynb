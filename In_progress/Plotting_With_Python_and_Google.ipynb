{
 "cells": [
  {
   "cell_type": "markdown",
   "metadata": {},
   "source": [
    "Plotting with Google and Python"
   ]
  },
  {
   "cell_type": "code",
   "execution_count": 1,
   "metadata": {
    "collapsed": true
   },
   "outputs": [],
   "source": [
    "from GChartWrapper import Pie"
   ]
  },
  {
   "cell_type": "code",
   "execution_count": 2,
   "metadata": {
    "collapsed": false
   },
   "outputs": [
    {
     "data": {
      "text/plain": [
       "<GChartWrapper.Pie http://chart.apis.google.com/chart?chd=t:5.0,10.0&chco=FF0000,00FF00&chl=hello|world&chs=300x150&cht=p&chtt=Hello+Pie>"
      ]
     },
     "execution_count": 2,
     "metadata": {},
     "output_type": "execute_result"
    }
   ],
   "source": [
    "Pie([5,10]).title('Hello Pie').color('red','lime').label('hello', 'world')"
   ]
  },
  {
   "cell_type": "code",
   "execution_count": 3,
   "metadata": {
    "collapsed": false
   },
   "outputs": [
    {
     "data": {
      "text/html": [
       "<iframe src=http://chart.apis.google.com/chart?chd=t:5.0,10.0&chco=FF0000,00FF00&chl=hello|world&chs=300x150&cht=p&chtt=Hello+Pie>></iframe>"
      ],
      "text/plain": [
       "<IPython.core.display.HTML object>"
      ]
     },
     "execution_count": 3,
     "metadata": {},
     "output_type": "execute_result"
    }
   ],
   "source": [
    "from IPython.display import HTML\n",
    "HTML('<iframe src=http://chart.apis.google.com/chart?chd=t:5.0,10.0&chco=FF0000,00FF00&chl=hello|world&chs=300x150&cht=p&chtt=Hello+Pie>></iframe>')"
   ]
  },
  {
   "cell_type": "code",
   "execution_count": 4,
   "metadata": {
    "collapsed": false
   },
   "outputs": [
    {
     "name": "stdout",
     "output_type": "stream",
     "text": [
      "saving http://chart.apis.google.com/chart?chxt=x,y&chs=300x200&cht=s&chd=t:12,47,43,20,41,19,84,16,87,29|51,64,26,78,59,27,97,83,13,48\n"
     ]
    }
   ],
   "source": [
    "import random\n",
    "import urllib\n",
    "\n",
    "def list2String(x):\n",
    " \"\"\" from a list like [1,2,5]\n",
    "     return a string like '1,2,5' \"\"\"\n",
    " data = \"\"\n",
    " for i in x:\n",
    "  data += str(i)+\",\"\n",
    " return data[0:len(data)-1]\n",
    "\n",
    "def makeChart(x,y,filename):\n",
    " query_url = \"http://chart.apis.google.com/chart?chxt=x,y&chs=300x200&cht=s&chd=t:\"\n",
    " query_url += list2String(x)+\"|\"+list2String(y)\n",
    " chart = urllib.urlopen(query_url) # retrieve the chart\n",
    " print \"saving\",query_url\n",
    " f = open(filename,\"wb\")\n",
    " f.write(chart.read()) # save the pic\n",
    " f.close()\n",
    "\n",
    "x = random.sample(range(0,100),10) # list with\n",
    "y = random.sample(range(0,100),10) # random values in [0 100[\n",
    "makeChart(x,y,\"chart.png\")"
   ]
  },
  {
   "cell_type": "code",
   "execution_count": 5,
   "metadata": {
    "collapsed": false
   },
   "outputs": [
    {
     "name": "stdout",
     "output_type": "stream",
     "text": [
      " Volume in drive C has no label.\n",
      " Volume Serial Number is 18C2-EE86\n",
      "\n",
      " Directory of C:\\Users\\ngordon\\Dropbox\\nagordon.github.io\\In_progress\n",
      "\n",
      "04/14/2015  10:19 AM    <DIR>          .\n",
      "04/14/2015  10:19 AM    <DIR>          ..\n",
      "04/14/2015  09:09 AM    <DIR>          .ipynb_checkpoints\n",
      "04/02/2015  10:58 PM             1,826 blog_post_ideas.md\n",
      "04/14/2015  10:19 AM             5,497 chart.png\n",
      "03/04/2015  09:41 AM               122 markdown_titleblock.md\n",
      "04/03/2015  10:04 AM    <DIR>          Mechanical_Design_Calculations_with_Python\n",
      "04/14/2015  10:19 AM             8,939 Plotting_With_Python_and_Google.ipynb\n",
      "03/14/2015  05:00 PM                80 Sharing YOUR Photos on YOUR Hardware.md\n",
      "04/13/2015  10:42 PM             1,459 test_notebook.ipynb\n",
      "03/14/2015  08:46 PM               203 test_notebook.ipynb-meta\n",
      "03/14/2015  08:32 PM             9,277 What_Open-Source_Means_to_Me.md\n",
      "               8 File(s)         27,403 bytes\n",
      "               4 Dir(s)  67,622,842,368 bytes free\n"
     ]
    }
   ],
   "source": [
    "!dir"
   ]
  },
  {
   "cell_type": "markdown",
   "metadata": {},
   "source": [
    "We can simply load the local image created \n",
    "\n",
    "```markdown\n",
    "![chart](chart.png)\n",
    "```\n",
    "![chart](chart.png)\n",
    "\n",
    "\n",
    "```markdown\n",
    "<img src=\"chart.png\">\n",
    "```\n",
    "<img src=\"chart.png\">"
   ]
  },
  {
   "cell_type": "markdown",
   "metadata": {},
   "source": [
    "```markdown\n",
    "<img alt=\"Google chart example\" src=\"http://chart.apis.google.com/chart?chxt=x,y&amp;chs=300x200&amp;cht=s&amp;chd=t:64,10,18,42,49,83,73,27,44,51|77,89,13,87,27,34,38,44,22,42\" />\n",
    "```\n",
    "\n",
    "<img alt=\"Google chart example\" src=\"http://chart.apis.google.com/chart?chxt=x,y&amp;chs=300x200&amp;cht=s&amp;chd=t:64,10,18,42,49,83,73,27,44,51|77,89,13,87,27,34,38,44,22,42\" />"
   ]
  },
  {
   "cell_type": "code",
   "execution_count": 6,
   "metadata": {
    "collapsed": false
   },
   "outputs": [
    {
     "data": {
      "text/html": [
       "<iframe src=http://chart.apis.google.com/chart?chxt=x,y&chs=300x200&cht=s&chd=t:15,6,36,27,76,21,97,71,68,85|37,72,99,6,64,91,70,27,23,0></iframe>"
      ],
      "text/plain": [
       "<IPython.core.display.HTML object>"
      ]
     },
     "execution_count": 6,
     "metadata": {},
     "output_type": "execute_result"
    }
   ],
   "source": [
    "from IPython.display import HTML\n",
    "HTML('<iframe src=http://chart.apis.google.com/chart?chxt=x,y&chs=300x200&cht=s&chd=t:15,6,36,27,76,21,97,71,68,85|37,72,99,6,64,91,70,27,23,0></iframe>')"
   ]
  },
  {
   "cell_type": "markdown",
   "metadata": {
    "collapsed": true
   },
   "source": [
    "# PLotting from Google Sheets"
   ]
  },
  {
   "cell_type": "markdown",
   "metadata": {},
   "source": [
    "This sheet is a standalone page"
   ]
  },
  {
   "cell_type": "markdown",
   "metadata": {},
   "source": [
    "and this is embedded"
   ]
  },
  {
   "cell_type": "code",
   "execution_count": 7,
   "metadata": {
    "collapsed": false
   },
   "outputs": [
    {
     "data": {
      "text/html": [
       "<iframe width=\"625\" height=\"700\" seamless frameborder=\"0\" scrolling=\"yes\" src=\"https://docs.google.com/a/nobletek.com/spreadsheets/d/1YKu0jF0VzXvJCM0ZAfCw8JRovycqWztp9AaMH1-2hOs/pubchart?oid=1678008557&amp;format=interactive\"></iframe>"
      ],
      "text/plain": [
       "<IPython.core.display.HTML object>"
      ]
     },
     "execution_count": 7,
     "metadata": {},
     "output_type": "execute_result"
    }
   ],
   "source": [
    "HTML('<iframe width=\"625\" height=\"700\" seamless frameborder=\"0\" scrolling=\"yes\" src=\"https://docs.google.com/a/nobletek.com/spreadsheets/d/1YKu0jF0VzXvJCM0ZAfCw8JRovycqWztp9AaMH1-2hOs/pubchart?oid=1678008557&amp;format=interactive\"></iframe>')"
   ]
  },
  {
   "cell_type": "markdown",
   "metadata": {},
   "source": [
    "Another Example of Embedding plots. This plot is linked to the google sheets data and will update as the sheet changes"
   ]
  },
  {
   "cell_type": "code",
   "execution_count": 8,
   "metadata": {
    "collapsed": false
   },
   "outputs": [
    {
     "data": {
      "text/html": [
       "<iframe width=\"600\" height=\"371\" seamless frameborder=\"0\" scrolling=\"no\" src=\"https://docs.google.com/a/nobletek.com/spreadsheets/d/1YKu0jF0VzXvJCM0ZAfCw8JRovycqWztp9AaMH1-2hOs/pubchart?oid=555078395&amp;format=interactive\"></iframe>"
      ],
      "text/plain": [
       "<IPython.core.display.HTML object>"
      ]
     },
     "execution_count": 8,
     "metadata": {},
     "output_type": "execute_result"
    }
   ],
   "source": [
    "HTML('<iframe width=\"600\" height=\"371\" seamless frameborder=\"0\" scrolling=\"no\" src=\"https://docs.google.com/a/nobletek.com/spreadsheets/d/1YKu0jF0VzXvJCM0ZAfCw8JRovycqWztp9AaMH1-2hOs/pubchart?oid=555078395&amp;format=interactive\"></iframe>')"
   ]
  },
  {
   "cell_type": "code",
   "execution_count": null,
   "metadata": {
    "collapsed": true
   },
   "outputs": [],
   "source": []
  }
 ],
 "metadata": {
  "kernelspec": {
   "display_name": "Python 2",
   "language": "python",
   "name": "python2"
  },
  "language_info": {
   "codemirror_mode": {
    "name": "ipython",
    "version": 2
   },
   "file_extension": ".py",
   "mimetype": "text/x-python",
   "name": "python",
   "nbconvert_exporter": "python",
   "pygments_lexer": "ipython2",
   "version": "2.7.8"
  }
 },
 "nbformat": 4,
 "nbformat_minor": 0
}
