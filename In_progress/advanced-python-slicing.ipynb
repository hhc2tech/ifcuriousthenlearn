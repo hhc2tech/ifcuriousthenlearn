{
 "cells": [
  {
   "cell_type": "markdown",
   "metadata": {},
   "source": [
    "Python is a generic computing language, and so, many of the objects are capable of handling a wide variety of data. This tutorial will be focusing on lists, as well as arrays and matrices. For many problems in math, lists are analogous to a vector. The syntax can be a bit weird but lets play and try and learn along the way. My goal here is to generate a solid understanding of how to access various groups of the list in order to handle data, such as a sodoku table\n",
    "\n",
    "Lets start off play with a list comprehension. "
   ]
  },
  {
   "cell_type": "code",
   "execution_count": 189,
   "metadata": {
    "collapsed": false
   },
   "outputs": [],
   "source": [
    "row   = lambda x,r:   x[r]                                     # returns r row of matrix x\n",
    "col   = lambda x,c:   [k[c] for k in x]                        # returns c column of matrix x\n",
    "box   = lambda x,r,c: [k[r*3:r*3+3] for k in x[c*3:c*3+3]]      # sudoku boxes are 3x3\n",
    "T     = lambda x:     zip(*x)                                    # returns transpose of matrix x\n",
    "zeros = lambda z:     [[0 for x in range(z)] for y in range(z)]  # returns a zeros matrix os dimension nxn \n",
    "rmval = lambda x,v:   [z for z in x if z!=v]                    # removes all values v from list x"
   ]
  },
  {
   "cell_type": "code",
   "execution_count": 184,
   "metadata": {
    "collapsed": false
   },
   "outputs": [
    {
     "data": {
      "text/plain": [
       "[0, 1, 2, 4, 5, 6, 7, 8]"
      ]
     },
     "execution_count": 184,
     "metadata": {},
     "output_type": "execute_result"
    }
   ],
   "source": [
    "x = range(9)\n",
    "x.remove(3)\n",
    "x"
   ]
  },
  {
   "cell_type": "code",
   "execution_count": 185,
   "metadata": {
    "collapsed": false
   },
   "outputs": [
    {
     "data": {
      "text/plain": [
       "[0, 1, 2, 5, 6, 7, 8]"
      ]
     },
     "execution_count": 185,
     "metadata": {},
     "output_type": "execute_result"
    }
   ],
   "source": [
    "x = rmval(x,4)\n",
    "x"
   ]
  },
  {
   "cell_type": "code",
   "execution_count": 186,
   "metadata": {
    "collapsed": false
   },
   "outputs": [
    {
     "data": {
      "text/plain": [
       "[[0, 0, 0, 0, 0, 0, 0, 0, 0],\n",
       " [0, 0, 0, 0, 0, 0, 0, 0, 0],\n",
       " [0, 0, 0, 0, 0, 0, 0, 0, 0],\n",
       " [0, 0, 0, 0, 0, 0, 0, 0, 0],\n",
       " [0, 0, 0, 0, 0, 0, 0, 0, 0],\n",
       " [0, 0, 0, 0, 0, 0, 0, 0, 0],\n",
       " [0, 0, 0, 0, 0, 0, 0, 0, 0],\n",
       " [0, 0, 0, 0, 0, 0, 0, 0, 0],\n",
       " [0, 0, 0, 0, 0, 0, 0, 0, 0]]"
      ]
     },
     "execution_count": 186,
     "metadata": {},
     "output_type": "execute_result"
    }
   ],
   "source": [
    "x = zeros(9)\n",
    "x"
   ]
  },
  {
   "cell_type": "code",
   "execution_count": 187,
   "metadata": {
    "collapsed": false
   },
   "outputs": [
    {
     "data": {
      "text/plain": [
       "[[0, 1, 2, 3, 4, 5, 6, 7, 8],\n",
       " [9, 10, 11, 12, 13, 14, 15, 16, 17],\n",
       " [18, 19, 20, 21, 22, 23, 24, 25, 26],\n",
       " [27, 28, 29, 30, 31, 32, 33, 34, 35],\n",
       " [36, 37, 38, 39, 40, 41, 42, 43, 44],\n",
       " [45, 46, 47, 48, 49, 50, 51, 52, 53],\n",
       " [54, 55, 56, 57, 58, 59, 60, 61, 62],\n",
       " [63, 64, 65, 66, 67, 68, 69, 70, 71],\n",
       " [72, 73, 74, 75, 76, 77, 78, 79, 80]]"
      ]
     },
     "execution_count": 187,
     "metadata": {},
     "output_type": "execute_result"
    }
   ],
   "source": [
    "l=0\n",
    "for k in range(9):\n",
    "    for j in range(9):\n",
    "        x[k][j] = l\n",
    "        l+=1\n",
    "x"
   ]
  },
  {
   "cell_type": "code",
   "execution_count": 188,
   "metadata": {
    "collapsed": false
   },
   "outputs": [
    {
     "data": {
      "text/plain": [
       "[[0, 1, 2, 3, 4, 5, 6, 7, 8],\n",
       " [9, 10, 11, 12, 13, 14, 15, 16, 17],\n",
       " [18, 19, 20, 21, 22, 23, 24, 25, 26],\n",
       " [27, 28, 29, 30, 31, 32, 33, 34, 35],\n",
       " [36, 37, 38, 39, 40, 41, 42, 43, 44],\n",
       " [45, 46, 47, 48, 49, 50, 51, 52, 53],\n",
       " [54, 55, 56, 57, 58, 59, 60, 61, 62],\n",
       " [63, 64, 65, 66, 67, 68, 69, 70, 71],\n",
       " [72, 73, 74, 75, 76, 77, 78, 79, 80]]"
      ]
     },
     "execution_count": 188,
     "metadata": {},
     "output_type": "execute_result"
    }
   ],
   "source": [
    "x = rmval(x,3)\n",
    "x"
   ]
  },
  {
   "cell_type": "code",
   "execution_count": 170,
   "metadata": {
    "collapsed": false
   },
   "outputs": [
    {
     "data": {
      "text/plain": [
       "[18, 19, 20, 21, 22, 23, 24, 25, 26]"
      ]
     },
     "execution_count": 170,
     "metadata": {},
     "output_type": "execute_result"
    }
   ],
   "source": [
    "row(x,2)"
   ]
  },
  {
   "cell_type": "code",
   "execution_count": 171,
   "metadata": {
    "collapsed": false
   },
   "outputs": [
    {
     "data": {
      "text/plain": [
       "[2, 11, 20, 29, 38, 47, 56, 65, 74]"
      ]
     },
     "execution_count": 171,
     "metadata": {},
     "output_type": "execute_result"
    }
   ],
   "source": [
    "col(x,2)"
   ]
  },
  {
   "cell_type": "code",
   "execution_count": 172,
   "metadata": {
    "collapsed": false
   },
   "outputs": [
    {
     "data": {
      "text/plain": [
       "[(0, 9, 18, 27, 36, 45, 54, 63, 72),\n",
       " (1, 10, 19, 28, 37, 46, 55, 64, 73),\n",
       " (2, 11, 20, 29, 38, 47, 56, 65, 74),\n",
       " (3, 12, 21, 30, 39, 48, 57, 66, 75),\n",
       " (4, 13, 22, 31, 40, 49, 58, 67, 76),\n",
       " (5, 14, 23, 32, 41, 50, 59, 68, 77),\n",
       " (6, 15, 24, 33, 42, 51, 60, 69, 78),\n",
       " (7, 16, 25, 34, 43, 52, 61, 70, 79),\n",
       " (8, 17, 26, 35, 44, 53, 62, 71, 80)]"
      ]
     },
     "execution_count": 172,
     "metadata": {},
     "output_type": "execute_result"
    }
   ],
   "source": [
    "T(x)"
   ]
  },
  {
   "cell_type": "code",
   "execution_count": 135,
   "metadata": {
    "collapsed": false
   },
   "outputs": [
    {
     "name": "stdout",
     "output_type": "stream",
     "text": [
      "\n",
      " col 0 row0\n",
      "[[0, 1, 2], [9, 10, 11], [18, 19, 20]]\n",
      "\n",
      " col 0 row1\n",
      "[[27, 28, 29], [36, 37, 38], [45, 46, 47]]\n",
      "\n",
      " col 0 row2\n",
      "[[54, 55, 56], [63, 64, 65], [72, 73, 74]]\n",
      "\n",
      " col 1 row0\n",
      "[[3, 4, 5], [12, 13, 14], [21, 22, 23]]\n",
      "\n",
      " col 1 row1\n",
      "[[30, 31, 32], [39, 40, 41], [48, 49, 50]]\n",
      "\n",
      " col 1 row2\n",
      "[[57, 58, 59], [66, 67, 68], [75, 76, 77]]\n",
      "\n",
      " col 2 row0\n",
      "[[6, 7, 8], [15, 16, 17], [24, 25, 26]]\n",
      "\n",
      " col 2 row1\n",
      "[[33, 34, 35], [42, 43, 44], [51, 52, 53]]\n",
      "\n",
      " col 2 row2\n",
      "[[60, 61, 62], [69, 70, 71], [78, 79, 80]]\n"
     ]
    }
   ],
   "source": [
    "for i in range(3):\n",
    "    for j in range(3):\n",
    "        print '\\n col %i row%u' %(i,j)\n",
    "        print box(x,i,j)"
   ]
  },
  {
   "cell_type": "code",
   "execution_count": 136,
   "metadata": {
    "collapsed": false
   },
   "outputs": [],
   "source": [
    "sol=zeros(9)\n",
    "for k in range(9):\n",
    "    for j in range(9):\n",
    "        sol[k][j] = range(1,10)"
   ]
  },
  {
   "cell_type": "markdown",
   "metadata": {},
   "source": [
    "All available solutions for cell 1"
   ]
  },
  {
   "cell_type": "code",
   "execution_count": 160,
   "metadata": {
    "collapsed": false
   },
   "outputs": [
    {
     "data": {
      "text/plain": [
       "[1, 2, 3, 4, 5, 6, 7, 8, 9]"
      ]
     },
     "execution_count": 160,
     "metadata": {},
     "output_type": "execute_result"
    }
   ],
   "source": [
    "sol[0][0]"
   ]
  },
  {
   "cell_type": "code",
   "execution_count": 161,
   "metadata": {
    "collapsed": false
   },
   "outputs": [
    {
     "data": {
      "text/plain": [
       "[[0, 0, 0, 0, 0, 0, 0, 0, 0],\n",
       " [0, 0, 0, 0, 0, 0, 0, 0, 0],\n",
       " [0, 0, 0, 0, 0, 0, 0, 0, 0],\n",
       " [0, 0, 0, 0, 0, 0, 0, 0, 0],\n",
       " [0, 0, 0, 0, 0, 0, 0, 0, 0],\n",
       " [0, 0, 0, 0, 0, 0, 0, 0, 0],\n",
       " [0, 0, 0, 0, 0, 0, 0, 0, 0],\n",
       " [0, 0, 0, 0, 0, 0, 0, 0, 0],\n",
       " [0, 0, 0, 0, 0, 0, 0, 0, 0]]"
      ]
     },
     "execution_count": 161,
     "metadata": {},
     "output_type": "execute_result"
    }
   ],
   "source": [
    "x"
   ]
  },
  {
   "cell_type": "code",
   "execution_count": null,
   "metadata": {
    "collapsed": true
   },
   "outputs": [],
   "source": []
  },
  {
   "cell_type": "code",
   "execution_count": 192,
   "metadata": {
    "collapsed": false
   },
   "outputs": [
    {
     "data": {
      "text/plain": [
       "[[30, 31, 32], [39, 40, 41], [48, 49, 50]]"
      ]
     },
     "execution_count": 192,
     "metadata": {},
     "output_type": "execute_result"
    }
   ],
   "source": [
    "t = box(x,1,1)\n",
    "t"
   ]
  },
  {
   "cell_type": "code",
   "execution_count": 194,
   "metadata": {
    "collapsed": false
   },
   "outputs": [
    {
     "data": {
      "text/plain": [
       "True"
      ]
     },
     "execution_count": 194,
     "metadata": {},
     "output_type": "execute_result"
    }
   ],
   "source": [
    "30 in t[0]\n"
   ]
  },
  {
   "cell_type": "code",
   "execution_count": null,
   "metadata": {
    "collapsed": true
   },
   "outputs": [],
   "source": []
  },
  {
   "cell_type": "code",
   "execution_count": 211,
   "metadata": {
    "collapsed": false
   },
   "outputs": [],
   "source": [
    "grid =  [[1,0,0,0,0,0,0,0,0],\n",
    "        [4,0,0,5,9,0,0,0,2],\n",
    "        [5,0,0,6,7,0,8,4,1],\n",
    "        [0,0,0,4,0,0,5,2,6],\n",
    "        [0,0,0,0,0,0,0,0,0],\n",
    "        [0,2,0,0,0,0,1,9,0],\n",
    "        [0,8,0,0,0,4,2,6,3],\n",
    "        [0,0,0,0,0,0,0,0,0],\n",
    "        [0,7,0,2,6,0,0,5,9]]\n",
    "for k in range(9):\n",
    "    for j in range(9):\n",
    "        grid[k][j] = range(1,10) if grid[k][j] == 0 else grid[k][j]"
   ]
  },
  {
   "cell_type": "code",
   "execution_count": 215,
   "metadata": {
    "collapsed": false
   },
   "outputs": [
    {
     "data": {
      "text/plain": [
       "1"
      ]
     },
     "execution_count": 215,
     "metadata": {},
     "output_type": "execute_result"
    }
   ],
   "source": [
    "grid[0][0]"
   ]
  },
  {
   "cell_type": "code",
   "execution_count": 195,
   "metadata": {
    "collapsed": false,
    "scrolled": false
   },
   "outputs": [
    {
     "name": "stdout",
     "output_type": "stream",
     "text": [
      "[[' ' ' ' 'i' ' ' ' ' ' ' 'o' ' ' ' ']\n",
      " [' ' 'i' 'x' ' ' ' ' ' ' ' ' 'o' ' ']\n",
      " ['i' 'y' 'z' ' ' 'o' ' ' ' ' ' ' 'i']\n",
      " [' ' ' ' 'i' ' ' 'o' ' ' 'o' ' ' ' ']\n",
      " [' ' ' ' ' ' ' ' ' ' ' ' ' ' ' ' ' ']\n",
      " [' ' 'i' ' ' 'o' ' ' 'i' 'i' ' ' ' ']\n",
      " [' ' ' ' ' ' 'o' ' ' ' ' ' ' ' ' ' ']\n",
      " [' ' 'i' ' ' ' ' 'i' ' ' ' ' ' ' ' ']\n",
      " ['i' ' ' ' ' ' ' ' ' ' ' 'o' 'o' ' ']\n",
      " [' ' 'i' ' ' ' ' 'o' ' ' ' ' ' ' 'o']]\n",
      "\n",
      "\n",
      "[[' ' ' ' 'i']\n",
      " [' ' 'i' 'x']\n",
      " ['i' 'y' 'z']]\n",
      "\n",
      "\n",
      "[[' ' 'i' ' ']\n",
      " ['i' 'x' ' ']\n",
      " ['y' 'z' ' ']]\n",
      "\n",
      "\n",
      "[['i' ' ' ' ']\n",
      " ['x' ' ' ' ']\n",
      " ['z' ' ' 'o']]\n",
      "\n",
      "\n",
      "[[' ' ' ' ' ']\n",
      " [' ' ' ' ' ']\n",
      " [' ' 'o' ' ']]\n",
      "\n",
      "\n",
      "[[' ' ' ' 'o']\n",
      " [' ' ' ' ' ']\n",
      " ['o' ' ' ' ']]\n",
      "\n",
      "\n",
      "[[' ' 'o' ' ']\n",
      " [' ' ' ' 'o']\n",
      " [' ' ' ' ' ']]\n",
      "\n",
      "\n",
      "[['o' ' ' ' ']\n",
      " [' ' 'o' ' ']\n",
      " [' ' ' ' 'i']]\n",
      "\n",
      "\n",
      "[[' ' 'i' 'x']\n",
      " ['i' 'y' 'z']\n",
      " [' ' ' ' 'i']]\n",
      "\n",
      "\n",
      "[['i' 'x' ' ']\n",
      " ['y' 'z' ' ']\n",
      " [' ' 'i' ' ']]\n",
      "\n",
      "\n",
      "[['x' ' ' ' ']\n",
      " ['z' ' ' 'o']\n",
      " ['i' ' ' 'o']]\n",
      "\n",
      "\n",
      "[[' ' ' ' ' ']\n",
      " [' ' 'o' ' ']\n",
      " [' ' 'o' ' ']]\n",
      "\n",
      "\n",
      "[[' ' ' ' ' ']\n",
      " ['o' ' ' ' ']\n",
      " ['o' ' ' 'o']]\n",
      "\n",
      "\n",
      "[[' ' ' ' 'o']\n",
      " [' ' ' ' ' ']\n",
      " [' ' 'o' ' ']]\n",
      "\n",
      "\n",
      "[[' ' 'o' ' ']\n",
      " [' ' ' ' 'i']\n",
      " ['o' ' ' ' ']]\n",
      "\n",
      "\n",
      "[['i' 'y' 'z']\n",
      " [' ' ' ' 'i']\n",
      " [' ' ' ' ' ']]\n",
      "\n",
      "\n",
      "[['y' 'z' ' ']\n",
      " [' ' 'i' ' ']\n",
      " [' ' ' ' ' ']]\n",
      "\n",
      "\n",
      "[['z' ' ' 'o']\n",
      " ['i' ' ' 'o']\n",
      " [' ' ' ' ' ']]\n",
      "\n",
      "\n",
      "[[' ' 'o' ' ']\n",
      " [' ' 'o' ' ']\n",
      " [' ' ' ' ' ']]\n",
      "\n",
      "\n",
      "[['o' ' ' ' ']\n",
      " ['o' ' ' 'o']\n",
      " [' ' ' ' ' ']]\n",
      "\n",
      "\n",
      "[[' ' ' ' ' ']\n",
      " [' ' 'o' ' ']\n",
      " [' ' ' ' ' ']]\n",
      "\n",
      "\n",
      "[[' ' ' ' 'i']\n",
      " ['o' ' ' ' ']\n",
      " [' ' ' ' ' ']]\n",
      "\n",
      "\n",
      "[[' ' ' ' 'i']\n",
      " [' ' ' ' ' ']\n",
      " [' ' 'i' ' ']]\n",
      "\n",
      "\n",
      "[[' ' 'i' ' ']\n",
      " [' ' ' ' ' ']\n",
      " ['i' ' ' 'o']]\n",
      "\n",
      "\n",
      "[['i' ' ' 'o']\n",
      " [' ' ' ' ' ']\n",
      " [' ' 'o' ' ']]\n",
      "\n",
      "\n",
      "[[' ' 'o' ' ']\n",
      " [' ' ' ' ' ']\n",
      " ['o' ' ' 'i']]\n",
      "\n",
      "\n",
      "[['o' ' ' 'o']\n",
      " [' ' ' ' ' ']\n",
      " [' ' 'i' 'i']]\n",
      "\n",
      "\n",
      "[[' ' 'o' ' ']\n",
      " [' ' ' ' ' ']\n",
      " ['i' 'i' ' ']]\n",
      "\n",
      "\n",
      "[['o' ' ' ' ']\n",
      " [' ' ' ' ' ']\n",
      " ['i' ' ' ' ']]\n",
      "\n",
      "\n",
      "[[' ' ' ' ' ']\n",
      " [' ' 'i' ' ']\n",
      " [' ' ' ' ' ']]\n",
      "\n",
      "\n",
      "[[' ' ' ' ' ']\n",
      " ['i' ' ' 'o']\n",
      " [' ' ' ' 'o']]\n",
      "\n",
      "\n",
      "[[' ' ' ' ' ']\n",
      " [' ' 'o' ' ']\n",
      " [' ' 'o' ' ']]\n",
      "\n",
      "\n",
      "[[' ' ' ' ' ']\n",
      " ['o' ' ' 'i']\n",
      " ['o' ' ' ' ']]\n",
      "\n",
      "\n",
      "[[' ' ' ' ' ']\n",
      " [' ' 'i' 'i']\n",
      " [' ' ' ' ' ']]\n",
      "\n",
      "\n",
      "[[' ' ' ' ' ']\n",
      " ['i' 'i' ' ']\n",
      " [' ' ' ' ' ']]\n",
      "\n",
      "\n",
      "[[' ' ' ' ' ']\n",
      " ['i' ' ' ' ']\n",
      " [' ' ' ' ' ']]\n",
      "\n",
      "\n",
      "[[' ' 'i' ' ']\n",
      " [' ' ' ' ' ']\n",
      " [' ' 'i' ' ']]\n",
      "\n",
      "\n",
      "[['i' ' ' 'o']\n",
      " [' ' ' ' 'o']\n",
      " ['i' ' ' ' ']]\n",
      "\n",
      "\n",
      "[[' ' 'o' ' ']\n",
      " [' ' 'o' ' ']\n",
      " [' ' ' ' 'i']]\n",
      "\n",
      "\n",
      "[['o' ' ' 'i']\n",
      " ['o' ' ' ' ']\n",
      " [' ' 'i' ' ']]\n",
      "\n",
      "\n",
      "[[' ' 'i' 'i']\n",
      " [' ' ' ' ' ']\n",
      " ['i' ' ' ' ']]\n",
      "\n",
      "\n",
      "[['i' 'i' ' ']\n",
      " [' ' ' ' ' ']\n",
      " [' ' ' ' ' ']]\n",
      "\n",
      "\n",
      "[['i' ' ' ' ']\n",
      " [' ' ' ' ' ']\n",
      " [' ' ' ' ' ']]\n",
      "\n",
      "\n",
      "[[' ' ' ' ' ']\n",
      " [' ' 'i' ' ']\n",
      " ['i' ' ' ' ']]\n",
      "\n",
      "\n",
      "[[' ' ' ' 'o']\n",
      " ['i' ' ' ' ']\n",
      " [' ' ' ' ' ']]\n",
      "\n",
      "\n",
      "[[' ' 'o' ' ']\n",
      " [' ' ' ' 'i']\n",
      " [' ' ' ' ' ']]\n",
      "\n",
      "\n",
      "[['o' ' ' ' ']\n",
      " [' ' 'i' ' ']\n",
      " [' ' ' ' ' ']]\n",
      "\n",
      "\n",
      "[[' ' ' ' ' ']\n",
      " ['i' ' ' ' ']\n",
      " [' ' ' ' 'o']]\n",
      "\n",
      "\n",
      "[[' ' ' ' ' ']\n",
      " [' ' ' ' ' ']\n",
      " [' ' 'o' 'o']]\n",
      "\n",
      "\n",
      "[[' ' ' ' ' ']\n",
      " [' ' ' ' ' ']\n",
      " ['o' 'o' ' ']]\n",
      "\n",
      "\n",
      "[[' ' 'i' ' ']\n",
      " ['i' ' ' ' ']\n",
      " [' ' 'i' ' ']]\n",
      "\n",
      "\n",
      "[['i' ' ' ' ']\n",
      " [' ' ' ' ' ']\n",
      " ['i' ' ' ' ']]\n",
      "\n",
      "\n",
      "[[' ' ' ' 'i']\n",
      " [' ' ' ' ' ']\n",
      " [' ' ' ' 'o']]\n",
      "\n",
      "\n",
      "[[' ' 'i' ' ']\n",
      " [' ' ' ' ' ']\n",
      " [' ' 'o' ' ']]\n",
      "\n",
      "\n",
      "[['i' ' ' ' ']\n",
      " [' ' ' ' 'o']\n",
      " ['o' ' ' ' ']]\n",
      "\n",
      "\n",
      "[[' ' ' ' ' ']\n",
      " [' ' 'o' 'o']\n",
      " [' ' ' ' ' ']]\n",
      "\n",
      "\n",
      "[[' ' ' ' ' ']\n",
      " ['o' 'o' ' ']\n",
      " [' ' ' ' 'o']]\n"
     ]
    }
   ],
   "source": [
    "from numpy import array\n",
    "\n",
    "\n",
    "m =   array(  [[' ',' ','i',' ',' ',' ','o',' ',' '],\n",
    "               [' ','i','x',' ',' ',' ',' ','o',' '],\n",
    "               ['i','y','z',' ','o',' ',' ',' ','i'],\n",
    "               [' ',' ','i',' ','o',' ','o',' ',' '],\n",
    "               [' ',' ',' ',' ',' ',' ',' ',' ',' '],\n",
    "               [' ','i',' ','o',' ','i','i',' ',' '],\n",
    "               [' ',' ',' ','o',' ',' ',' ',' ',' '],\n",
    "               [' ','i',' ',' ','i',' ',' ',' ',' '],\n",
    "               ['i',' ',' ',' ',' ',' ','o','o',' '],\n",
    "               [' ','i',' ',' ','o',' ',' ',' ','o']])\n",
    "\n",
    "# access the first row\n",
    "m[0,:] \n",
    "m[0]\n",
    "\n",
    "m[:,0] #accesthe first column   \n",
    "m.T[0]\n",
    "\n",
    "m[0:3][:,0:3]  # access rows 0-3 and columns 0-3])\n",
    "m[0:3,0:3]\n",
    "       \n",
    "m1 = m[:] # shallow copy\n",
    "\n",
    "m == 'i'\n",
    "m == 'o'\n",
    "\n",
    "# inputs - coordinates\n",
    "# is there 2 i or 2 o next to the coordinates\n",
    "\n",
    "x,y = 1,1\n",
    "\n",
    "print m\n",
    "for x in range(8):\n",
    "    for y in range(7):\n",
    "        s = m[x:x+3,y:y+3]\n",
    "        #s = m[x:x+3][:,y:y+3]\n",
    "        print '\\n'\n",
    "        print s\n",
    "        \n",
    "        s[1]   # center row \n",
    "        s[:,1]  #center column"
   ]
  },
  {
   "cell_type": "code",
   "execution_count": 200,
   "metadata": {
    "collapsed": false
   },
   "outputs": [
    {
     "data": {
      "text/plain": [
       "array([[' ', ' ', ' '],\n",
       "       ['o', 'o', ' '],\n",
       "       [' ', ' ', 'o']], \n",
       "      dtype='|S1')"
      ]
     },
     "execution_count": 200,
     "metadata": {},
     "output_type": "execute_result"
    }
   ],
   "source": [
    "s"
   ]
  },
  {
   "cell_type": "code",
   "execution_count": 205,
   "metadata": {
    "collapsed": false
   },
   "outputs": [
    {
     "data": {
      "text/plain": [
       "True"
      ]
     },
     "execution_count": 205,
     "metadata": {},
     "output_type": "execute_result"
    }
   ],
   "source": [
    "'o' in s"
   ]
  },
  {
   "cell_type": "code",
   "execution_count": 206,
   "metadata": {
    "collapsed": false
   },
   "outputs": [
    {
     "data": {
      "text/plain": [
       "array([[False, False, False],\n",
       "       [ True,  True, False],\n",
       "       [False, False,  True]], dtype=bool)"
      ]
     },
     "execution_count": 206,
     "metadata": {},
     "output_type": "execute_result"
    }
   ],
   "source": [
    "'o' == s"
   ]
  },
  {
   "cell_type": "code",
   "execution_count": 207,
   "metadata": {
    "collapsed": false
   },
   "outputs": [],
   "source": [
    "s['o' == s] = 0"
   ]
  },
  {
   "cell_type": "code",
   "execution_count": 208,
   "metadata": {
    "collapsed": false
   },
   "outputs": [
    {
     "data": {
      "text/plain": [
       "array([[' ', ' ', ' '],\n",
       "       ['0', '0', ' '],\n",
       "       [' ', ' ', '0']], \n",
       "      dtype='|S1')"
      ]
     },
     "execution_count": 208,
     "metadata": {},
     "output_type": "execute_result"
    }
   ],
   "source": [
    "s"
   ]
  },
  {
   "cell_type": "code",
   "execution_count": null,
   "metadata": {
    "collapsed": true
   },
   "outputs": [],
   "source": []
  }
 ],
 "metadata": {
  "kernelspec": {
   "display_name": "Python 2",
   "language": "python",
   "name": "python2"
  },
  "language_info": {
   "codemirror_mode": {
    "name": "ipython",
    "version": 2
   },
   "file_extension": ".py",
   "mimetype": "text/x-python",
   "name": "python",
   "nbconvert_exporter": "python",
   "pygments_lexer": "ipython2",
   "version": "2.7.8"
  }
 },
 "nbformat": 4,
 "nbformat_minor": 0
}
