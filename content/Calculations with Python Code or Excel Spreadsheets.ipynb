{
 "cells": [
  {
   "cell_type": "markdown",
   "metadata": {},
   "source": [
    "# To code or not to code  \n",
    "When faced with a technical challenge or problem solving, conceptual understanding is an important first step, and I almost always start with hand calculations. Once I feel that I have a grasp of the concept, then I turn to a digital approach which often involves using excel or python and running some numbers, and re-running them, and fiddling until I really understand. I always feel like, especially in engineering, that using the right tool for the right job can make a big difference in the results. [Microsoft Excel](https://products.office.com/en-us/excel) or [Libre Calc](https://www.libreoffice.org/discover/calc/) spreadsheet programs are a great way to plug some numbers in and perform simple calculations with nearly no learning curve to get an answer. But as the complexity and quantity of the data and compuation increases, spreadsheets start to not make sense. That's where I feel a code based calculation method is important tool in everyones analysis toolbox. Classicaly, good old pencil and paper was the only way to model and work out problems. But, with the availability of the personal computer, software has allowed us to do more work with less effort. I find it very fascinating to see how people solve problems. This post will explore that idea and hopefully give you an idea to go beyond excel the next time you need to run some numbers.\n",
    "\n",
    "There are many ways to solve engineering problems. The main tools that I have found critical  are:\n",
    "\n",
    " * **hand calculations**  \n",
    "    * no learning curve\n",
    "    * low cost\n",
    "    * slow, tedious and can be error prone (me and algebra :( )\n",
    "    * forces you to understand \n",
    " * **spreadsheets**  \n",
    "    * medium learning curve\n",
    "    * great at simple data storage\n",
    "    * great for simple calcualtions\n",
    "    * non-linear / confusing thought process\n",
    "    * not great at large scale date storage \n",
    "    * not repeatable\n",
    " * **code**  \n",
    "    * linear thought process (usually)\n",
    "    * most powerful for calculations \n",
    "    * not great at simple data storage\n",
    "    * great for large scale data storage and processing \n",
    "    * powerful version control ([git](https://git-scm.com/))\n",
    "    * very repeatable\n",
    "\n",
    "These are a few methods for solving computational problems. Each one has a time and place, but recognizing when you are trying to put a square peg in a round hole can help keep you sane.\n",
    "\n",
    "\n",
    "# An Example - python and Excel to understand loans\n",
    "\n",
    "OK, so we discussed some different approaches to problem solving. Lets look at an example of using an spreadsheet and python code to understand and determine the cost of an loan. Some terms are listed below if you aren't familiar with a compound interest loan.\n",
    "\n",
    "> apr - annual percentage rate  \n",
    "> r   - monthly percentge rate, apr/12  \n",
    "> per - the peroid for which you want to find an interest  \n",
    "> nper - number of payment  \n",
    "> pv - present value, the loan amount\n",
    "> pmt - payment for a loan  \n",
    "> payments due at the end of the period  \n",
    "\n",
    "Let's throw some numbers at this. Here I will define some variables that define our loan parameters"
   ]
  },
  {
   "cell_type": "code",
   "execution_count": 36,
   "metadata": {
    "collapsed": true
   },
   "outputs": [],
   "source": [
    "############# define input variables #############\n",
    "n = 24   # term in months\n",
    "apr = 0.0250   # annual percentage rate\n",
    "r = apr/12     # monthly percentage rate\n",
    "baseloan = 30000   # principal amount of loan\n",
    "downpayment = 5000 \n",
    "PV = baseloan - downpayment  # present value of the loan"
   ]
  },
  {
   "cell_type": "markdown",
   "metadata": {},
   "source": [
    "## Hand Calculation  \n",
    "If we are to hand calculate our loan payments, we can use the following equation (found in Engineering Economy, Blank et al, pg 58)\n",
    "\n",
    "$$\n",
    "payment = PV \\bigg[  \\frac{r(1+r)^n}{(1+r)^n-1} \\bigg]\n",
    "$$\n"
   ]
  },
  {
   "cell_type": "code",
   "execution_count": 37,
   "metadata": {
    "collapsed": false
   },
   "outputs": [
    {
     "data": {
      "text/plain": [
       "-1069.0098055421547"
      ]
     },
     "execution_count": 37,
     "metadata": {},
     "output_type": "execute_result"
    }
   ],
   "source": [
    "# monthly payments assuming compounding interest\n",
    "payment = -PV*((r*(1+r)**n)/((1+r)**n-1))\n",
    "payment"
   ]
  },
  {
   "cell_type": "markdown",
   "metadata": {},
   "source": [
    "Easy enough, but what if you want to make a payment table, it would be very tedious by hand. Fortuantley, we have a computer. Since I understand the equation being used, I have no issues with automating this a little more. We can make an spreadsheet table. which is nice visually, didn't take very much time, and allows me to change some parameters.\n",
    "\n",
    "## Spreadsheet"
   ]
  },
  {
   "cell_type": "markdown",
   "metadata": {},
   "source": [
    "<iframe width=\"700\" height=\"807\" frameborder=\"0\" scrolling=\"no\" src=\"https://onedrive.live.com/embed?cid=2DAE54F5236205EE&resid=2DAE54F5236205EE%2125844&authkey=AMSdq_7Zcg_mK_g&em=2&wdAllowInteractivity=False&AllowTyping=True&ActiveCell='loan'!E2&Item='loan'!A1%3AI38&wdHideGridlines=True&wdDownloadButton=True\"></iframe>"
   ]
  },
  {
   "cell_type": "markdown",
   "metadata": {},
   "source": [
    "But, if we want to change, say the term length, well then we have to change the layout of the table and mess with it, so the spreadsheet isn't as robust as we had hoped. How about a code solution? Here are the steps to get some python code going to do the same exact calcuation, and being very robust, and can be used for many different finanical applications.\n",
    "\n",
    "## Code"
   ]
  },
  {
   "cell_type": "code",
   "execution_count": 39,
   "metadata": {
    "collapsed": true
   },
   "outputs": [],
   "source": [
    "############# import python libraries #############\n",
    "from numpy import *\n",
    "from pandas import DataFrame, date_range, set_option\n",
    "set_option('precision',2)"
   ]
  },
  {
   "cell_type": "code",
   "execution_count": 40,
   "metadata": {
    "collapsed": false
   },
   "outputs": [
    {
     "name": "stdout",
     "output_type": "stream",
     "text": [
      " monthly payment     = -1069.009806\n",
      " total interest cost = -656.235333\n",
      "\n",
      "         date  month   balance  payment  interest  principal\n",
      "0  2016-01-31      1  25000.00 -1069.01    -52.08   -1016.93\n",
      "1  2016-02-29      2  23930.99 -1069.01    -49.96   -1019.05\n",
      "2  2016-03-31      3  22861.98 -1069.01    -47.84   -1021.17\n",
      "3  2016-04-30      4  21792.97 -1069.01    -45.71   -1023.30\n",
      "4  2016-05-31      5  20723.96 -1069.01    -43.58   -1025.43\n",
      "5  2016-06-30      6  19654.95 -1069.01    -41.45   -1027.56\n",
      "6  2016-07-31      7  18585.94 -1069.01    -39.31   -1029.70\n",
      "7  2016-08-31      8  17516.93 -1069.01    -37.16   -1031.85\n",
      "8  2016-09-30      9  16447.92 -1069.01    -35.01   -1034.00\n",
      "9  2016-10-31     10  15378.91 -1069.01    -32.86   -1036.15\n",
      "10 2016-11-30     11  14309.90 -1069.01    -30.70   -1038.31\n",
      "11 2016-12-31     12  13240.89 -1069.01    -28.53   -1040.48\n",
      "12 2017-01-31     13  12171.88 -1069.01    -26.37   -1042.64\n",
      "13 2017-02-28     14  11102.87 -1069.01    -24.19   -1044.82\n",
      "14 2017-03-31     15  10033.86 -1069.01    -22.02   -1046.99\n",
      "15 2017-04-30     16   8964.85 -1069.01    -19.84   -1049.17\n",
      "16 2017-05-31     17   7895.84 -1069.01    -17.65   -1051.36\n",
      "17 2017-06-30     18   6826.83 -1069.01    -15.46   -1053.55\n",
      "18 2017-07-31     19   5757.82 -1069.01    -13.27   -1055.74\n",
      "19 2017-08-31     20   4688.81 -1069.01    -11.07   -1057.94\n",
      "20 2017-09-30     21   3619.80 -1069.01     -8.86   -1060.15\n",
      "21 2017-10-31     22   2550.79 -1069.01     -6.65   -1062.36\n",
      "22 2017-11-30     23   1481.78 -1069.01     -4.44   -1064.57\n",
      "23 2017-12-31     24    412.77 -1069.01     -2.22   -1066.79\n"
     ]
    }
   ],
   "source": [
    "############# calculate output #############\n",
    "per =              arange(1,n+1)  # months\n",
    "payment =          pmt(r, n, PV)  # monthly payment\n",
    "interestpayment =  ipmt(r, per, n, PV)  # monthly interest\n",
    "principalpayment = ppmt(r, per, n, PV)  # monthly principal\n",
    "balance =          baseloan - downpayment + per*payment - sum(payment) # monthly balance\n",
    "dates =            date_range('20160101', periods=n, freq='M')\n",
    "\n",
    "############# create a table with the output #############\n",
    "# create a dataframe for simple data management and output\n",
    "df = DataFrame({'date':dates,\n",
    "                'month':per,\n",
    "                'balance':balance,\n",
    "                'payment':ones(len(per))*payment,\n",
    "                'interest':interestpayment,\n",
    "                'principal':principalpayment})\n",
    "# reorder the columns to match the spreadsheet\n",
    "df = df[['date','month','balance','payment','interest','principal']]\n",
    "\n",
    "############# print output #############\n",
    "print(' monthly payment     = %f' % payment)\n",
    "print(' total interest cost = %f\\n' % sum(interestpayment))   \n",
    "print(df)"
   ]
  },
  {
   "cell_type": "markdown",
   "metadata": {
    "collapsed": true
   },
   "source": [
    "Assuming the user has a basic understanding of how to write a computer program, code is(should be) very straightforward to read. Spreadsheets, like the one shown above can be nebulus and requires a fair bit of digging to see what calcualtions are being made. \n",
    "If you need any help with the functions, use the help function to show the inputs\n",
    "\n",
    "```python\n",
    "help(pmt)\n",
    "help(ipmt)\n",
    "help(ppmt)\n",
    "```\n",
    "\n",
    "Try playing around with the code and see what happens when the terms of the loan are changed. The code is more robust to changes, where the spreadsheet has to be reworked\n",
    "\n",
    "# Summary\n",
    "\n",
    "A simple demo compared spreadsheets versus code with an example of a common calcualtion problem, loans! When pursuing future projects, think about what tools would be the best for the given problem, as well as you, and possibly your team. \n",
    "\n",
    "Stay curious!"
   ]
  }
 ],
 "metadata": {
  "kernelspec": {
   "display_name": "Python 3",
   "language": "python",
   "name": "python3"
  },
  "language_info": {
   "codemirror_mode": {
    "name": "ipython",
    "version": 3
   },
   "file_extension": ".py",
   "mimetype": "text/x-python",
   "name": "python",
   "nbconvert_exporter": "python",
   "pygments_lexer": "ipython3",
   "version": "3.5.1"
  }
 },
 "nbformat": 4,
 "nbformat_minor": 0
}
